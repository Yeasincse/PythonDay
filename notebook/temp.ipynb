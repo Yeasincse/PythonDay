{
 "cells": [
  {
   "cell_type": "markdown",
   "metadata": {},
   "source": [
    "Django Hello World!\n",
    "---\n",
    "(1.) Create a web app project called mysite and then create a table in a database. We also need a user. Here we create \"username=admin\"\n",
    "```shell\n",
    "        django-admin startproject mysite\n",
    "        python manage.py migrate\n",
    "        python manage.py createsuperuser --username=admin\n",
    "```\n",
    "2. You may need to change the password.\n",
    "```shell\n",
    "        python manage.py changepassword admin\n",
    "```\n",
    "3. Now, start the web app.\n",
    "```python\n",
    "        python manage.py startapp my_app\n",
    "```\n",
    "4. Add your method in views.py\n",
    "```python\n",
    "        #\\mysite\\my_app\\views.py\n",
    "        from django.http import HttpResponse\n",
    "        from datetime import datetime\n",
    "        def home(request):\n",
    "            now = datetime.now()\n",
    "            html = \"<html><body>It is now %s.</body></html>\" % now\n",
    "            return HttpResponse(html)\n",
    "```\n",
    "5. Dont forget to change the urls.py\n",
    "```python\n",
    "        #\\mysite\\urls.py\n",
    "        from my_app import views\n",
    "        ...\n",
    "        url(r'^$', views.home, name='home'),\n",
    "```"
   ]
  },
  {
   "cell_type": "code",
   "execution_count": null,
   "metadata": {
    "collapsed": true
   },
   "outputs": [],
   "source": []
  }
 ],
 "metadata": {
  "kernelspec": {
   "display_name": "Python 2",
   "language": "python",
   "name": "python2"
  },
  "language_info": {
   "codemirror_mode": {
    "name": "ipython",
    "version": 2
   },
   "file_extension": ".py",
   "mimetype": "text/x-python",
   "name": "python",
   "nbconvert_exporter": "python",
   "pygments_lexer": "ipython2",
   "version": "2.7.11"
  }
 },
 "nbformat": 4,
 "nbformat_minor": 0
}
