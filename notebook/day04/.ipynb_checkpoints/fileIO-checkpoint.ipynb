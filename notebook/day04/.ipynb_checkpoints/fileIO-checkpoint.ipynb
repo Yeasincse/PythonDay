{
 "cells": [
  {
   "cell_type": "markdown",
   "metadata": {
    "collapsed": true
   },
   "source": [
    "# Reading file"
   ]
  },
  {
   "cell_type": "code",
   "execution_count": 2,
   "metadata": {
    "collapsed": false
   },
   "outputs": [
    {
     "name": "stdout",
     "output_type": "stream",
     "text": [
      "All the better to hug you with, my dear.\n",
      "Grandmother, what big legs you have!\n",
      "All the better to run with, my child.\n",
      "Grandmother, what big ears you have!\n",
      "All the better to hear with, my child.\n",
      "Grandmother, what big eyes you have!\n",
      "All the better to see with, my child.\n",
      "Grandmother, what big teeth you have got!\n",
      "All the better to eat you up with.\n"
     ]
    }
   ],
   "source": [
    "filename='LittleRedRidingHood.txt'\n",
    "with open(filename) as f:\n",
    "    print f.read()"
   ]
  },
  {
   "cell_type": "code",
   "execution_count": 3,
   "metadata": {
    "collapsed": false
   },
   "outputs": [
    {
     "name": "stdout",
     "output_type": "stream",
     "text": [
      "All the better to hug you with, my dear.\n",
      "\n",
      "Grandmother, what big legs you have!\n",
      "\n",
      "All the better to run with, my child.\n",
      "\n",
      "Grandmother, what big ears you have!\n",
      "\n",
      "All the better to hear with, my child.\n",
      "\n",
      "Grandmother, what big eyes you have!\n",
      "\n",
      "All the better to see with, my child.\n",
      "\n",
      "Grandmother, what big teeth you have got!\n",
      "\n",
      "All the better to eat you up with.\n"
     ]
    }
   ],
   "source": [
    "filename='LittleRedRidingHood.txt'\n",
    "with open(filename) as f:\n",
    "    for line in f:\n",
    "        print line"
   ]
  },
  {
   "cell_type": "markdown",
   "metadata": {},
   "source": [
    "Syntax\n",
    "===\n",
    "\n",
    "```python\n",
    "            str.split(str=\" \", num=string.count(str)).\n",
    "```\n",
    "\n",
    "Parameters\n",
    "===\n",
    "    str -- This is any delimeter, by default it is space.\n",
    "\n",
    "    num -- this is number of lines to be made\n",
    "\n",
    "Return Value\n",
    "===\n",
    "    This method returns a list of lines."
   ]
  },
  {
   "cell_type": "code",
   "execution_count": 4,
   "metadata": {
    "collapsed": false
   },
   "outputs": [
    {
     "data": {
      "text/plain": [
       "'All the better to eat you up with.'"
      ]
     },
     "execution_count": 4,
     "metadata": {},
     "output_type": "execute_result"
    }
   ],
   "source": [
    "line"
   ]
  },
  {
   "cell_type": "code",
   "execution_count": 5,
   "metadata": {
    "collapsed": false
   },
   "outputs": [
    {
     "data": {
      "text/plain": [
       "['All', 'the', 'better', 'to', 'eat', 'you', 'up', 'with.']"
      ]
     },
     "execution_count": 5,
     "metadata": {},
     "output_type": "execute_result"
    }
   ],
   "source": [
    "line.split(\" \")"
   ]
  },
  {
   "cell_type": "markdown",
   "metadata": {},
   "source": [
    "# Writing file"
   ]
  },
  {
   "cell_type": "code",
   "execution_count": 6,
   "metadata": {
    "collapsed": false
   },
   "outputs": [],
   "source": [
    "filename='hello.txt'\n",
    "with open(filename,'w') as f:\n",
    "    f.write('Hello World!');"
   ]
  },
  {
   "cell_type": "code",
   "execution_count": 7,
   "metadata": {
    "collapsed": false
   },
   "outputs": [
    {
     "name": "stdout",
     "output_type": "stream",
     "text": [
      " Volume in drive C has no label.\n",
      " Volume Serial Number is A8BF-C894\n",
      "\n",
      " Directory of C:\\Users\\Wasit\\Documents\\GitHub\\PythonDay\\notebook\\day04\n",
      "\n",
      "06/06/2016  16:45    <DIR>          .\n",
      "06/06/2016  16:45    <DIR>          ..\n",
      "06/06/2016  16:10    <DIR>          .ipynb_checkpoints\n",
      "06/06/2016  16:45             7,399 fileIO.ipynb\n",
      "06/06/2016  16:46                12 hello.txt\n",
      "06/06/2016  16:16               351 LittleRedRidingHood.txt\n",
      "               3 File(s)          7,762 bytes\n",
      "               3 Dir(s)  71,244,111,872 bytes free\n"
     ]
    }
   ],
   "source": [
    "ls"
   ]
  },
  {
   "cell_type": "markdown",
   "metadata": {},
   "source": [
    "# Array to string"
   ]
  },
  {
   "cell_type": "code",
   "execution_count": 8,
   "metadata": {
    "collapsed": true
   },
   "outputs": [],
   "source": [
    "A=[5,6,7]"
   ]
  },
  {
   "cell_type": "code",
   "execution_count": 9,
   "metadata": {
    "collapsed": false
   },
   "outputs": [
    {
     "name": "stdout",
     "output_type": "stream",
     "text": [
      "5 6 7 \n"
     ]
    }
   ],
   "source": [
    "s=\"\"\n",
    "for i in A:\n",
    "    s+= \"{} \".format(i)\n",
    "\n",
    "print s"
   ]
  },
  {
   "cell_type": "code",
   "execution_count": 10,
   "metadata": {
    "collapsed": false
   },
   "outputs": [
    {
     "data": {
      "text/plain": [
       "'5 6 7 '"
      ]
     },
     "execution_count": 10,
     "metadata": {},
     "output_type": "execute_result"
    }
   ],
   "source": [
    "s"
   ]
  },
  {
   "cell_type": "code",
   "execution_count": 11,
   "metadata": {
    "collapsed": false
   },
   "outputs": [
    {
     "name": "stdout",
     "output_type": "stream",
     "text": [
      "5 6 7 \n"
     ]
    }
   ],
   "source": [
    "s=\"\"\n",
    "for i in A:\n",
    "    s+= \"%d \"%(i)\n",
    "print s"
   ]
  },
  {
   "cell_type": "code",
   "execution_count": 12,
   "metadata": {
    "collapsed": false
   },
   "outputs": [
    {
     "name": "stdout",
     "output_type": "stream",
     "text": [
      "[[1, 2, 3], [4, 5, 6], [7, 8, 9]]\n"
     ]
    }
   ],
   "source": [
    "B=[[1,2,3],[4,5,6],[7,8,9]]\n",
    "print B"
   ]
  },
  {
   "cell_type": "code",
   "execution_count": 13,
   "metadata": {
    "collapsed": false
   },
   "outputs": [
    {
     "name": "stdout",
     "output_type": "stream",
     "text": [
      "1 2 3 \n",
      "4 5 6 \n",
      "7 8 9 \n",
      "\n"
     ]
    }
   ],
   "source": [
    "s=\"\"\n",
    "for row in B:\n",
    "    for column in row:\n",
    "        s+= \"%d \"%(column)\n",
    "    s+= \"\\n\"\n",
    "print s"
   ]
  },
  {
   "cell_type": "markdown",
   "metadata": {},
   "source": [
    "# Exercise1 \n",
    "    To write the matrix b to a text file named 'B.dat'. \n",
    "    Then read the text file back to a new variable called 'C' and print it out in a matrix format."
   ]
  },
  {
   "cell_type": "markdown",
   "metadata": {},
   "source": [
    "# Home work: Multi-index sorting\n",
    "see in the classroom"
   ]
  },
  {
   "cell_type": "code",
   "execution_count": null,
   "metadata": {
    "collapsed": true
   },
   "outputs": [],
   "source": []
  }
 ],
 "metadata": {
  "celltoolbar": "Raw Cell Format",
  "kernelspec": {
   "display_name": "Python 2",
   "language": "python",
   "name": "python2"
  },
  "language_info": {
   "codemirror_mode": {
    "name": "ipython",
    "version": 2
   },
   "file_extension": ".py",
   "mimetype": "text/x-python",
   "name": "python",
   "nbconvert_exporter": "python",
   "pygments_lexer": "ipython2",
   "version": "2.7.11"
  }
 },
 "nbformat": 4,
 "nbformat_minor": 0
}
