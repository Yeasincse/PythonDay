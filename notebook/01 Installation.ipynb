{
 "cells": [
  {
   "cell_type": "markdown",
   "metadata": {},
   "source": [
    "10:00-10:30 Web App Ideas\n",
    "--\n",
    "10:30-12:00 Intro Python\n",
    "--\n",
    "Installation, Package management, Using Modules\n",
    "Datatype, Control flow\n",
    "Functions and Class\n",
    "\n",
    "13:00-15:00 Workshop on Flask and Django\n",
    "--\n",
    "15:00-16:00 Google App engine and APIs\n",
    "--\n",
    "16:00-18:00 Making a simple web chat\n",
    "--"
   ]
  },
  {
   "cell_type": "markdown",
   "metadata": {},
   "source": [
    "Welcome to PythonDay Tutorial\n",
    "====\n",
    "Python is crossplatform this means you can get it run in almost every where. Here is an installation guideline for the major OS.\n",
    "\n",
    "OS X and Ubuntu\n",
    "--\n",
    "For OS X and Ubuntu, you already get Python come along with the OS.\n",
    "\n",
    "Windows OS\n",
    "--\n",
    "For Windows, you can download original installer file from the <a href=\"https://www.python.org/downloads/\">official page</a> or using the <a href=\"http://docs.continuum.io/anaconda/install#anaconda-install\">conda package</a>. Anyway, I normally use conda because some modules and package dependency that I'm using have been managed better.\n",
    "\n",
    "Please, add the directory /Scripts into you system path. \n",
    "```shell \n",
    "set PATH=%PATH%;C:\\Anaconda\\Scripts\n",
    "```"
   ]
  },
  {
   "cell_type": "markdown",
   "metadata": {},
   "source": [
    "IPython\n",
    "---\n",
    "Next we need IPython in this tutorial. IPython is an interactive python it comes along with many useful feature, e.g. auto completetion and this notebook. To install Ipython, you may use the following commands;\n",
    "\n",
    "```shell\n",
    "pip install ipython\n",
    "```\n",
    "or\n",
    "```shell\n",
    "conda update conda\n",
    "conda update ipython\n",
    "```\n",
    "IPython had Ipython Notebook but recently the project has been move to Jupyter, see more detail http://ipython.org/.\n",
    "IPython has many *magic commad*, plese check example below.\n",
    "<a href=\"http://jupyter.cs.brynmawr.edu/hub/dblank/public/Jupyter%20Notebook%20Users%20Manual.ipynb#4.-Using-Markdown-Cells-for-Writing\">Jupyter help</a>\n",
    "<a href=\"https://ipython.org/ipython-doc/3/interactive/tutorial.html\">magic commad</a>"
   ]
  },
  {
   "cell_type": "code",
   "execution_count": 3,
   "metadata": {
    "collapsed": false
   },
   "outputs": [
    {
     "name": "stderr",
     "output_type": "stream",
     "text": [
      "Python 2.7.11 :: Anaconda 2.1.0 (64-bit)\n"
     ]
    }
   ],
   "source": [
    "! python --version"
   ]
  },
  {
   "cell_type": "code",
   "execution_count": 4,
   "metadata": {
    "collapsed": false
   },
   "outputs": [
    {
     "name": "stdout",
     "output_type": "stream",
     "text": [
      "\n",
      "Pinging www.bbc.net.uk [212.58.246.92] with 32 bytes of data:\n",
      "Reply from 212.58.246.92: bytes=32 time=206ms TTL=48\n",
      "Reply from 212.58.246.92: bytes=32 time=206ms TTL=48\n",
      "Reply from 212.58.246.92: bytes=32 time=209ms TTL=48\n",
      "Reply from 212.58.246.92: bytes=32 time=209ms TTL=48\n",
      "\n",
      "Ping statistics for 212.58.246.92:\n",
      "    Packets: Sent = 4, Received = 4, Lost = 0 (0% loss),\n",
      "Approximate round trip times in milli-seconds:\n",
      "    Minimum = 206ms, Maximum = 209ms, Average = 207ms\n"
     ]
    }
   ],
   "source": [
    "! ping www.bbc.co.uk"
   ]
  },
  {
   "cell_type": "code",
   "execution_count": 5,
   "metadata": {
    "collapsed": false
   },
   "outputs": [
    {
     "name": "stdout",
     "output_type": "stream",
     "text": [
      "10000 loops, best of 3: 25.7 µs per loop\n"
     ]
    }
   ],
   "source": [
    "%timeit range(1000)"
   ]
  },
  {
   "cell_type": "code",
   "execution_count": null,
   "metadata": {
    "collapsed": true
   },
   "outputs": [],
   "source": []
  }
 ],
 "metadata": {
  "kernelspec": {
   "display_name": "Python 2",
   "language": "python",
   "name": "python2"
  },
  "language_info": {
   "codemirror_mode": {
    "name": "ipython",
    "version": 2
   },
   "file_extension": ".py",
   "mimetype": "text/x-python",
   "name": "python",
   "nbconvert_exporter": "python",
   "pygments_lexer": "ipython2",
   "version": "2.7.11"
  }
 },
 "nbformat": 4,
 "nbformat_minor": 0
}
