{
 "cells": [
  {
   "cell_type": "markdown",
   "metadata": {},
   "source": [
    "To send object between client and server by using Ajax, we need to code for both server-side and client-side\n",
    "\n",
    "#### views.py\n",
    "```python\n",
    "        from django.http import JsonResponse\n",
    "        import json\n",
    "        def set_data_to_server(request):  \n",
    "            server_data = {'server_data':[\n",
    "                    {'key':'value0'},\n",
    "                    {'key':'value1'},\n",
    "                ]}\n",
    "            client_data=json.loads(request.POST.get('client_data'))\n",
    "            return JsonResponse( server_data)\n",
    "            \n",
    "```\n",
    "\n",
    "\n",
    "####home.html\n",
    "```html\n",
    "        var client_data={key:'value'};\n",
    "        <script>\n",
    "            $(document).ready(function(){\n",
    "                $.ajax({\n",
    "                    url: 'http://this.can.be.relative.path',\n",
    "                    type: 'GET',\n",
    "                    data:{\n",
    "                        client_data: JSON.stringify(client_data)\n",
    "                    },\n",
    "                    success: function(data_from_server) {\n",
    "                            console.log( JSON.stringify(server_data) );\n",
    "                    }\n",
    "                });\n",
    "            });\n",
    "        </script>\n",
    "```"
   ]
  },
  {
   "cell_type": "code",
   "execution_count": null,
   "metadata": {
    "collapsed": true
   },
   "outputs": [],
   "source": []
  }
 ],
 "metadata": {
  "kernelspec": {
   "display_name": "Python 2",
   "language": "python",
   "name": "python2"
  },
  "language_info": {
   "codemirror_mode": {
    "name": "ipython",
    "version": 2
   },
   "file_extension": ".py",
   "mimetype": "text/x-python",
   "name": "python",
   "nbconvert_exporter": "python",
   "pygments_lexer": "ipython2",
   "version": "2.7.11"
  }
 },
 "nbformat": 4,
 "nbformat_minor": 0
}
