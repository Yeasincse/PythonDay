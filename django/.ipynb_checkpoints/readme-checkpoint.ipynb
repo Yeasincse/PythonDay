{
 "cells": [
  {
   "cell_type": "markdown",
   "metadata": {},
   "source": [
    "+ create project and database\n",
    "```shell\n",
    "\t\tdjango-admin startproject mysite2\n",
    "\t\tpython manage.py migrate\n",
    "\t\tpython manage.py createsuperuser --username=admin\n",
    "```\n",
    "\n",
    "+ create app called myauthen\n",
    "```python\n",
    "        python manage.py startapp myauthen\n",
    "```\n",
    "\n",
    "+ add app to /mysite2/settings.py\n",
    "```python\n",
    "        INSTALLED_APPS = [\n",
    "            'django.contrib.admin',\n",
    "            'django.contrib.auth',\n",
    "            'django.contrib.contenttypes',\n",
    "            'django.contrib.sessions',\n",
    "            'django.contrib.messages',\n",
    "            'django.contrib.staticfiles',\n",
    "            'myauthen',\n",
    "        ]\n",
    "```\n",
    "\n",
    "+ add app to /mysite2/urls.py\n",
    "```python\n",
    "        from django.conf.urls import url, include\n",
    "        from django.contrib import admin\n",
    "        urlpatterns = [\n",
    "            url(r'^admin/', admin.site.urls),\n",
    "            url(r'^myauthen/', include('myauthen.urls')),\n",
    "        ]\n",
    "```\n",
    "\n",
    "+ create /mysite2/myauthen/urls.py\n",
    "```python\n",
    "        from django.conf.urls import url\n",
    "        from . import views\n",
    "\n",
    "        urlpatterns = [\n",
    "            url(r'^$', views.signin, name='signin'),\n",
    "            url(r'^signout/$', views.signout, name='signout'),\n",
    "            url(r'^index/$', views.index, name='index'),\n",
    "            url(r'^home/$', views.home, name='home'),\n",
    "            ] \t\n",
    "```\n",
    "\n",
    "+ create directory /mysite2/myauthen/templates and then add signin.html and home.html\n",
    "\n",
    "+ finally, create edit the views.py"
   ]
  },
  {
   "cell_type": "markdown",
   "metadata": {},
   "source": []
  }
 ],
 "metadata": {
  "kernelspec": {
   "display_name": "Python 2",
   "language": "python",
   "name": "python2"
  },
  "language_info": {
   "codemirror_mode": {
    "name": "ipython",
    "version": 2
   },
   "file_extension": ".py",
   "mimetype": "text/x-python",
   "name": "python",
   "nbconvert_exporter": "python",
   "pygments_lexer": "ipython2",
   "version": "2.7.11"
  }
 },
 "nbformat": 4,
 "nbformat_minor": 0
}
